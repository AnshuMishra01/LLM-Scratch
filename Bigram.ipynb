{
  "nbformat": 4,
  "nbformat_minor": 0,
  "metadata": {
    "colab": {
      "provenance": [],
      "gpuType": "T4",
      "authorship_tag": "ABX9TyMYXlKxD/G3HgtQvLoGvnXk",
      "include_colab_link": true
    },
    "kernelspec": {
      "name": "python3",
      "display_name": "Python 3"
    },
    "language_info": {
      "name": "python"
    },
    "accelerator": "GPU"
  },
  "cells": [
    {
      "cell_type": "markdown",
      "metadata": {
        "id": "view-in-github",
        "colab_type": "text"
      },
      "source": [
        "<a href=\"https://colab.research.google.com/github/AnshuMishra01/LLM-Scratch/blob/main/Bigram.ipynb\" target=\"_parent\"><img src=\"https://colab.research.google.com/assets/colab-badge.svg\" alt=\"Open In Colab\"/></a>"
      ]
    },
    {
      "cell_type": "code",
      "execution_count": null,
      "metadata": {
        "id": "et78dqj16UKa"
      },
      "outputs": [],
      "source": [
        "import torch\n",
        "import torch.nn as nn\n",
        "from torch.nn import functional as F\n",
        "import pandas as pd\n",
        "import numpy as np"
      ]
    },
    {
      "cell_type": "code",
      "source": [
        "device = 'cuda' if torch.cuda.is_available() else 'cpu'\n",
        "print(device)"
      ],
      "metadata": {
        "colab": {
          "base_uri": "https://localhost:8080/"
        },
        "id": "rOmq4N47DMyz",
        "outputId": "63d78b6e-e892-4919-d425-1c17c5b118cc"
      },
      "execution_count": null,
      "outputs": [
        {
          "output_type": "stream",
          "name": "stdout",
          "text": [
            "cuda\n"
          ]
        }
      ]
    },
    {
      "cell_type": "code",
      "source": [
        "#Hyperparameters\n",
        "block_size = 8\n",
        "batch_size = 4\n",
        "max_iters = 1000000\n",
        "learning_rate = 3e-3\n",
        "eval_iters = 250\n",
        "dropout = 0.2"
      ],
      "metadata": {
        "id": "QhUgXL79DgR4"
      },
      "execution_count": null,
      "outputs": []
    },
    {
      "cell_type": "code",
      "source": [
        "with open('prince_of_lover.txt', 'r', encoding='utf-8') as f:\n",
        "  text = f.read()\n",
        "chars = sorted(set(text))\n",
        "vocab_size = len(chars)"
      ],
      "metadata": {
        "id": "ps__U5mj6e7b"
      },
      "execution_count": null,
      "outputs": []
    },
    {
      "cell_type": "code",
      "source": [
        "vocab_size"
      ],
      "metadata": {
        "colab": {
          "base_uri": "https://localhost:8080/"
        },
        "id": "waofZIDgv8rz",
        "outputId": "f3ff63e3-127e-40f3-f84d-44065486a714"
      },
      "execution_count": null,
      "outputs": [
        {
          "output_type": "execute_result",
          "data": {
            "text/plain": [
              "93"
            ]
          },
          "metadata": {},
          "execution_count": 35
        }
      ]
    },
    {
      "cell_type": "code",
      "source": [
        "string_to_int = {ch:i for i,ch in enumerate(chars)}\n",
        "int_to_string = {i:ch for i,ch in enumerate(chars)}\n",
        "encode = lambda s: [string_to_int[c] for c in s]\n",
        "decode = lambda l:\"\".join([int_to_string[i] for i in l])\n",
        "\n",
        "data = torch.tensor(encode(text), dtype=torch.long)\n",
        "print(data[:100])"
      ],
      "metadata": {
        "colab": {
          "base_uri": "https://localhost:8080/"
        },
        "id": "iWSPCeOB8BJn",
        "outputId": "74755b5b-30ed-4642-968b-a9b09ef44d7f"
      },
      "execution_count": null,
      "outputs": [
        {
          "output_type": "stream",
          "name": "stdout",
          "text": [
            "tensor([92, 45, 62, 59,  1, 41, 72, 69, 64, 59, 57, 74,  1, 32, 75, 74, 59, 68,\n",
            "        56, 59, 72, 61,  1, 59, 27, 69, 69, 65,  1, 69, 60,  1, 26,  1, 70, 72,\n",
            "        63, 68, 57, 59,  1, 69, 60,  1, 66, 69, 76, 59, 72, 73,  0,  1,  1,  1,\n",
            "         1,  0, 45, 62, 63, 73,  1, 59, 56, 69, 69, 65,  1, 63, 73,  1, 60, 69,\n",
            "        72,  1, 74, 62, 59,  1, 75, 73, 59,  1, 69, 60,  1, 55, 68, 79, 69, 68,\n",
            "        59,  1, 55, 68, 79, 77, 62, 59, 72, 59])\n"
          ]
        }
      ]
    },
    {
      "cell_type": "markdown",
      "source": [
        "Q) Why here we are making tensors ?"
      ],
      "metadata": {
        "id": "NuCyFEVS-ZPc"
      }
    },
    {
      "cell_type": "code",
      "source": [
        "test = pd.DataFrame(encode(text));\n",
        "test.shape"
      ],
      "metadata": {
        "colab": {
          "base_uri": "https://localhost:8080/"
        },
        "id": "fin2mu2q9L_w",
        "outputId": "4ffd4bfd-3813-4798-a66b-73223508d825"
      },
      "execution_count": null,
      "outputs": [
        {
          "output_type": "execute_result",
          "data": {
            "text/plain": [
              "(573706, 1)"
            ]
          },
          "metadata": {},
          "execution_count": 26
        }
      ]
    },
    {
      "cell_type": "code",
      "source": [
        "data.shape"
      ],
      "metadata": {
        "colab": {
          "base_uri": "https://localhost:8080/"
        },
        "id": "ryGlVUUr918w",
        "outputId": "ff602da4-2b13-48cc-e749-602089a50a61"
      },
      "execution_count": null,
      "outputs": [
        {
          "output_type": "execute_result",
          "data": {
            "text/plain": [
              "torch.Size([573706])"
            ]
          },
          "metadata": {},
          "execution_count": 27
        }
      ]
    },
    {
      "cell_type": "code",
      "source": [
        "n = int(0.8*len(data))\n",
        "train = data[:n]\n",
        "val = data[n:]"
      ],
      "metadata": {
        "id": "u7pjBNVr-SFK"
      },
      "execution_count": null,
      "outputs": []
    },
    {
      "cell_type": "code",
      "source": [
        "# block_size = 5\n",
        "\n",
        "# x= train[:block_size]\n",
        "# y = train[1:block_size+1]\n",
        "# for t in range(block_size):\n",
        "#   context = x[:t+1]\n",
        "#   target = y[t]\n",
        "#   print(\"when input is \", context, \"Output is \", target)"
      ],
      "metadata": {
        "id": "qDjduw0o_-Bj"
      },
      "execution_count": null,
      "outputs": []
    },
    {
      "cell_type": "code",
      "source": [
        "def get_batch(split):\n",
        "  data = train if split =='train' else val\n",
        "  ix = torch.randint(len(data) - block_size,(batch_size,))\n",
        "  x = torch.stack([data[i:i+block_size] for i in ix])\n",
        "  y = torch.stack([data[i+1:i+block_size+1] for i in ix])\n",
        "  x,y = x.to(device), y.to(device)\n",
        "  return x,y\n",
        "\n",
        "x,y = get_batch('train')\n",
        "print('inputs : ')\n",
        "print(x)\n",
        "print('outputs : ')\n",
        "print(y)"
      ],
      "metadata": {
        "id": "kV7nQ2txAOjL",
        "colab": {
          "base_uri": "https://localhost:8080/"
        },
        "outputId": "a06b66c1-7203-40ad-eafa-38155af8b9a9"
      },
      "execution_count": null,
      "outputs": [
        {
          "output_type": "stream",
          "name": "stdout",
          "text": [
            "inputs : \n",
            "tensor([[67, 69, 68, 63, 68, 61,  0, 62],\n",
            "        [68, 69,  0, 73, 63, 61, 68, 73],\n",
            "        [66, 79,  1, 62, 63, 68, 74,  1],\n",
            "        [58,  9,  1, 55,  1, 58, 55, 68]], device='cuda:0')\n",
            "outputs : \n",
            "tensor([[69, 68, 63, 68, 61,  0, 62, 59],\n",
            "        [69,  0, 73, 63, 61, 68, 73,  1],\n",
            "        [79,  1, 62, 63, 68, 74,  1, 63],\n",
            "        [ 9,  1, 55,  1, 58, 55, 68, 61]], device='cuda:0')\n"
          ]
        }
      ]
    },
    {
      "cell_type": "markdown",
      "source": [
        "## Bigram Langauge Model"
      ],
      "metadata": {
        "id": "hBMo5NzOkFFN"
      }
    },
    {
      "cell_type": "code",
      "source": [
        "class BigramLanguageModel(nn.Module):\n",
        "  def __init__(self, vocab_size):\n",
        "    super().__init__()\n",
        "    self.token_embedding_table = nn.Embedding(vocab_size, vocab_size)\n",
        "\n",
        "  def forward(self, index, targets=None):\n",
        "    logits = self.token_embedding_table(index)\n",
        "\n",
        "    if targets is None:\n",
        "      loss = None\n",
        "    else:\n",
        "      B, T, C  = logits.shape\n",
        "      logits = logits.view(B*T, C)\n",
        "      targets = targets.view(B*T)\n",
        "      loss = F.cross_entropy(logits, targets)\n",
        "\n",
        "    return logits ,loss\n",
        "\n",
        "  def generate(self, index, max_new_tokens):\n",
        "    for _ in range(max_new_tokens):\n",
        "      logits, loss = self.forward(index, targets=None)\n",
        "      logits = logits[:, -1, :]\n",
        "      probs = F.softmax(logits, dim =-1)\n",
        "      index_next = torch.multinomial(probs, num_samples=1)\n",
        "      index = torch.cat((index, index_next), dim=1)\n",
        "    return index\n",
        "\n",
        "model = BigramLanguageModel(vocab_size)\n",
        "m = model.to(device)\n",
        "\n",
        "context = torch.zeros((1,1), dtype=torch.long, device=device) ##INT64\n",
        "generated_chars = decode(m.generate(context, max_new_tokens=500)[0].tolist())\n",
        "print(generated_chars)"
      ],
      "metadata": {
        "colab": {
          "base_uri": "https://localhost:8080/"
        },
        "id": "I-uq7sBliymR",
        "outputId": "95d14790-72ca-49b3-b004-d58e9f8a1ebf"
      },
      "execution_count": null,
      "outputs": [
        {
          "output_type": "stream",
          "name": "stdout",
          "text": [
            "\n",
            "iVPy,4‘Oc;H7y—qNbLLF2QIfqMzT8äx*EWX64ïd1zx$.?4*5﻿5e!Nr0’;‘UDw2;rc﻿][”(/Y‘m5E•XEIEpï4﻿!?sFWI’o’Ot0QAFOZw9Z-q﻿TaEHV?Ea\n",
            "Q•r;1H**UEQN2“BVGP/’2r-#k,V ,VmbY /Ws?Ci.ar(“8äh:e•™d7jsJjmvD“uGV?e•TJsJ0hwœ15Iwj2cHV6$]pJhMœè)kwcPXè8hV6pïjN﻿TF﻿.fIaT™LgN2(h:C,4jnA/’?omA9VJ1X—;3 ZbY,!2bF﻿J.Wl i-%;EJSB9ï,7h”cWGFWn%a\n",
            "—èL—f™hZ—SUQwbOp9ooRCQ‘i\n",
            "np”qm?4AF53t™4H6-A”p4:iOKiQMZ ,7pe•.Yg“kH1:4_sEW tT!lb﻿TEqjNY[ZQ7ybX-uQœT8’8•\n",
            "\n",
            "UWvs2Ajq?,x—Lgwo$T]äHC#nGïP“u-wb ZDwWP$qfE:egqtIZDg$WykZ?KZkw/D6$NS‘”l ipA”Bï1P™—sT’!o6$E.hFd﻿•\n"
          ]
        }
      ]
    },
    {
      "cell_type": "code",
      "source": [
        "#create a PyTorch Optimizer\n",
        "optimizer = torch.optim.AdamW(model.parameters(), lr=learning_rate)\n",
        "\n",
        "for iter in range(max_iters):\n",
        "  xb, yb = get_batch('train')\n",
        "  logits, loss = model.forward(xb,yb)\n",
        "  optimizer.zero_grad(set_to_none=True)\n",
        "  loss.backward()\n",
        "  optimizer.step()\n",
        "print(loss.item())"
      ],
      "metadata": {
        "colab": {
          "base_uri": "https://localhost:8080/"
        },
        "id": "aqZTEuH_oFQv",
        "outputId": "870fe869-844e-4384-8a1c-376345f38ae3"
      },
      "execution_count": null,
      "outputs": [
        {
          "output_type": "stream",
          "name": "stdout",
          "text": [
            "2.275867223739624\n"
          ]
        }
      ]
    },
    {
      "cell_type": "code",
      "source": [
        "context = torch.zeros((1,1), dtype=torch.long, device=device)\n",
        "generated_chars = decode(m.generate(context, max_new_tokens=500)[0].tolist())\n",
        "print(generated_chars)"
      ],
      "metadata": {
        "colab": {
          "base_uri": "https://localhost:8080/"
        },
        "id": "j1Hbl4gHuB8t",
        "outputId": "5d45d0dd-1a07-41f6-f28e-98aa06c73925"
      },
      "execution_count": null,
      "outputs": [
        {
          "output_type": "stream",
          "name": "stdout",
          "text": [
            "\n",
            "“IShepe oino thofo t\n",
            "\n",
            "Mibem. thon and alsweded shir, ider\n",
            "llderer htithad, Che\n",
            "\n",
            "“Wh, ine wetrowathat, hed ined.\n",
            "\n",
            "athunge d. aghe\n",
            "sad,”\n",
            "ort antinamo n athand a’sthenet berkn hiof akenghay “Ifis,\n",
            "hald indad.\n",
            "\n",
            "Chofou lenghe, bolecess renteghas rse\n",
            "cinathok d, tiot wate As vinaisss arond ours qurerals\n",
            "“I ghew iofowa harin. neman passt s ase tlitinng larsy lorn ar in. te Dos ilioony. ind alor I tat ther hery irone d, ry, was, ppeno Thead so s me t ceadrit s\n",
            "\n",
            "“He Haise f win. whetiffr has\n",
            "m.”\n",
            "I tifoor\n"
          ]
        }
      ]
    },
    {
      "cell_type": "code",
      "source": [
        "@torch.no_grad()\n",
        "def estimate_loss():\n",
        "  out = {}\n",
        "  model.eval()\n",
        "  for split in ['train', 'val']:\n",
        "    losses = torch.zeros(eval_iters)\n",
        "    for k in range(eval_iters):\n",
        "      X,Y = get_batch(split)\n",
        "      logits, loss = model(X,Y)\n",
        "      losses[k] =loss.item()\n",
        "    out[split] = losses.mean()\n",
        "  model.train()\n",
        "  return out"
      ],
      "metadata": {
        "id": "O_NgTTs8zOm0"
      },
      "execution_count": null,
      "outputs": []
    }
  ]
}